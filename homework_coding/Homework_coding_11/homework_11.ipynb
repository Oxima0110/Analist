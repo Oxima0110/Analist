{
 "cells": [
  {
   "cell_type": "markdown",
   "id": "a2921971",
   "metadata": {},
   "source": [
    "Дана функция f(x) = (sin(x)/2 + cos(x)/2)^2 * sin(x)\n",
    "\n",
    "1.Определить корни\n",
    "\n",
    "2.Найти интервалы, на которых функция возрастает\n",
    "\n",
    "3.Найти интервалы, на которых функция убывает\n",
    "\n",
    "4.Построить график\n",
    "\n",
    "5.Вычислить вершину\n",
    "\n",
    "6.Определить промежутки, на котором f > 0\n",
    "\n",
    "7.Определить промежутки, на котором f < 0"
   ]
  },
  {
   "cell_type": "code",
   "execution_count": 2,
   "id": "849c4554",
   "metadata": {},
   "outputs": [],
   "source": [
    "from sympy import *"
   ]
  },
  {
   "cell_type": "markdown",
   "id": "d6d3a209",
   "metadata": {},
   "source": [
    "1.Определить корни"
   ]
  },
  {
   "cell_type": "code",
   "execution_count": 4,
   "id": "9420bfd4",
   "metadata": {},
   "outputs": [
    {
     "name": "stdout",
     "output_type": "stream",
     "text": [
      "Корни уравнения: \n",
      "-pi/4, 0, 3*pi/4, pi\n"
     ]
    }
   ],
   "source": [
    "x = Symbol(\"x\")\n",
    "y = (sin(x)/2 + cos(x)/2)**2 * sin(x)\n",
    "list_zero = solve(y,x)\n",
    "list_zero = sorted(list_zero)\n",
    "print('Корни уравнения: ')\n",
    "print(*list_zero, sep = ', ')"
   ]
  },
  {
   "cell_type": "markdown",
   "id": "e633d289",
   "metadata": {},
   "source": [
    "2.Найти интервалы, на которых функция возрастает\n",
    "3.Найти интервалы, на которых функция убывает"
   ]
  },
  {
   "cell_type": "markdown",
   "id": "401e8fee",
   "metadata": {},
   "source": [
    "Находим экстремум :"
   ]
  },
  {
   "cell_type": "code",
   "execution_count": 6,
   "id": "dcacc2b3",
   "metadata": {},
   "outputs": [],
   "source": [
    "y_diff = diff((sin(x)/2 + cos(x)/2)**2 * sin(x))\n",
    "list_diff = solve(y_diff,x)\n",
    "list_diff = sorted(list_diff)"
   ]
  },
  {
   "cell_type": "markdown",
   "id": "0fdfe76b",
   "metadata": {},
   "source": [
    "Находим период дифференциальной функции"
   ]
  },
  {
   "cell_type": "code",
   "execution_count": 7,
   "id": "a4cefa86",
   "metadata": {},
   "outputs": [],
   "source": [
    "t = pi\n",
    "while True:   \n",
    "    a_1 = y_diff.subs(x, 0)\n",
    "    a_2 = y_diff.subs(x, 0 + t)\n",
    "    if a_1 == a_2:\n",
    "        break\n",
    "    else:\n",
    "        t += pi  "
   ]
  },
  {
   "cell_type": "code",
   "execution_count": 8,
   "id": "bbb905d7",
   "metadata": {},
   "outputs": [
    {
     "name": "stdout",
     "output_type": "stream",
     "text": [
      "1.Функция на промежутке -2*atan(-3/2 + sqrt(6)*sqrt(5 - sqrt(17))/2 + sqrt(17)/2):-pi/4 возрастает.\n",
      "2.Функция на промежутке -pi/4:2*atan(-sqrt(6)*sqrt(sqrt(17) + 5)/2 + 3/2 + sqrt(17)/2) убывает.\n",
      "3.Функция на промежутке 2*atan(-sqrt(6)*sqrt(sqrt(17) + 5)/2 + 3/2 + sqrt(17)/2):2*atan(-sqrt(17)/2 + sqrt(6)*sqrt(5 - sqrt(17))/2 + 3/2) возрастает.\n",
      "4.Функция на промежутке 2*atan(-sqrt(17)/2 + sqrt(6)*sqrt(5 - sqrt(17))/2 + 3/2):3*pi/4 убывает.\n",
      "5.Функция на промежутке 3*pi/4:2*atan(3/2 + sqrt(17)/2 + sqrt(6)*sqrt(sqrt(17) + 5)/2) возрастает.\n",
      "6.Функция на промежутке 2*atan(3/2 + sqrt(17)/2 + sqrt(6)*sqrt(sqrt(17) + 5)/2):-2*atan(-3/2 + sqrt(6)*sqrt(5 - sqrt(17))/2 + sqrt(17)/2) + 2*pi убывает.\n"
     ]
    }
   ],
   "source": [
    "point = list_diff[0] + t\n",
    "list_diff_1 = list_diff[:]\n",
    "list_diff_1.append(point) \n",
    "list_diff_1 = sorted(list_diff_1)\n",
    "for i in range (1, len(list_diff_1)):\n",
    "    section = '(' + str(list_diff_1[i - 1]) + ' , ' + str(list_diff_1[i]) + ')'\n",
    "    a_1 = y.subs(x, list_diff_1[i - 1] + 0.000001)\n",
    "    a_2 = y.subs(x, list_diff_1[i] - 0.000001)\n",
    "    if a_1 < a_2:\n",
    "        print(f'{i}.Функция на промежутке {list_diff_1[i - 1]}:{list_diff_1[i]} возрастает.')\n",
    "    else:\n",
    "        print(f'{i}.Функция на промежутке {list_diff_1[i - 1]}:{list_diff_1[i]} убывает.')"
   ]
  },
  {
   "cell_type": "markdown",
   "id": "e783a3ae",
   "metadata": {},
   "source": [
    "4.Построить график"
   ]
  },
  {
   "cell_type": "code",
   "execution_count": 9,
   "id": "d9b6d400",
   "metadata": {},
   "outputs": [
    {
     "data": {
      "image/png": "[encoded data removed]",
      "text/plain": [
       "<Figure size 432x288 with 1 Axes>"
      ]
     },
     "metadata": {
      "needs_background": "light"
     },
     "output_type": "display_data"
    }
   ],
   "source": [
    "graf_finc = plot(y)"
   ]
  },
  {
   "cell_type": "markdown",
   "id": "5d9098a2",
   "metadata": {},
   "source": [
    "5.Вычислить вершину"
   ]
  },
  {
   "cell_type": "code",
   "execution_count": 10,
   "id": "947b37d2",
   "metadata": {},
   "outputs": [
    {
     "name": "stdout",
     "output_type": "stream",
     "text": [
      "Вершина функции: x = -2*atan(-3/2 + sqrt(6)*sqrt(5 - sqrt(17))/2 + sqrt(17)/2), y = -(-sin(2*atan(-3/2 + sqrt(6)*sqrt(5 - sqrt(17))/2 + sqrt(17)/2))/2 + cos(2*atan(-3/2 + sqrt(6)*sqrt(5 - sqrt(17))/2 + sqrt(17)/2))/2)**2*sin(2*atan(-3/2 + sqrt(6)*sqrt(5 - sqrt(17))/2 + sqrt(17)/2))\n",
      "Вершина функции: x = -pi/4, y = 0\n",
      "Вершина функции: x = 2*atan(-sqrt(6)*sqrt(sqrt(17) + 5)/2 + 3/2 + sqrt(17)/2), y = (sin(2*atan(-sqrt(6)*sqrt(sqrt(17) + 5)/2 + 3/2 + sqrt(17)/2))/2 + cos(2*atan(-sqrt(6)*sqrt(sqrt(17) + 5)/2 + 3/2 + sqrt(17)/2))/2)**2*sin(2*atan(-sqrt(6)*sqrt(sqrt(17) + 5)/2 + 3/2 + sqrt(17)/2))\n",
      "Вершина функции: x = 2*atan(-sqrt(17)/2 + sqrt(6)*sqrt(5 - sqrt(17))/2 + 3/2), y = (cos(2*atan(-sqrt(17)/2 + sqrt(6)*sqrt(5 - sqrt(17))/2 + 3/2))/2 + sin(2*atan(-sqrt(17)/2 + sqrt(6)*sqrt(5 - sqrt(17))/2 + 3/2))/2)**2*sin(2*atan(-sqrt(17)/2 + sqrt(6)*sqrt(5 - sqrt(17))/2 + 3/2))\n",
      "Вершина функции: x = 3*pi/4, y = 0\n",
      "Вершина функции: x = 2*atan(3/2 + sqrt(17)/2 + sqrt(6)*sqrt(sqrt(17) + 5)/2), y = (cos(2*atan(3/2 + sqrt(17)/2 + sqrt(6)*sqrt(sqrt(17) + 5)/2))/2 + sin(2*atan(3/2 + sqrt(17)/2 + sqrt(6)*sqrt(sqrt(17) + 5)/2))/2)**2*sin(2*atan(3/2 + sqrt(17)/2 + sqrt(6)*sqrt(sqrt(17) + 5)/2))\n"
     ]
    }
   ],
   "source": [
    "for line in list_diff:\n",
    "    y_top = y.subs(x, line)\n",
    "    print(f'Вершина функции: x = {line}, y = {y_top}')"
   ]
  },
  {
   "cell_type": "markdown",
   "id": "a0654221",
   "metadata": {},
   "source": [
    "6.Определить промежутки, на котором f > 0\n",
    "7.Определить промежутки, на котором f < 0"
   ]
  },
  {
   "cell_type": "markdown",
   "id": "b7df9cb0",
   "metadata": {},
   "source": [
    "Находим период функции"
   ]
  },
  {
   "cell_type": "code",
   "execution_count": 11,
   "id": "4ee87d6e",
   "metadata": {},
   "outputs": [],
   "source": [
    "t = pi\n",
    "while True:   \n",
    "    a_1 = y.subs(x, 1)\n",
    "    a_2 = y.subs(x, 1 + t)\n",
    "    if a_1 == a_2:\n",
    "        break\n",
    "    else:\n",
    "        t += pi"
   ]
  },
  {
   "cell_type": "code",
   "execution_count": 12,
   "id": "d15d8950",
   "metadata": {},
   "outputs": [
    {
     "name": "stdout",
     "output_type": "stream",
     "text": [
      "Функция на промежутке -pi/4 : 0 < 0.\n",
      "Функция на промежутке 0 : 3*pi/4 > 0.\n",
      "Функция на промежутке 3*pi/4 : pi > 0.\n",
      "Функция на промежутке pi : 7*pi/4 < 0.\n"
     ]
    }
   ],
   "source": [
    "point_plus = list_zero[0] + t\n",
    "lst_zero = list_zero[:]\n",
    "lst_zero.append(point_plus)\n",
    "for i in range(1, len(lst_zero)):\n",
    "    point = lst_zero[i - 1]\n",
    "    if y.subs(x, point + 0.0000001) > 0:\n",
    "        print(f'Функция на промежутке {lst_zero[i - 1]} : {lst_zero[i]} > 0.')\n",
    "    else:\n",
    "        print(f'Функция на промежутке {lst_zero[i - 1]} : {lst_zero[i]} < 0.')\n"
   ]
  },
  {
   "cell_type": "code",
   "execution_count": null,
   "id": "6706787d",
   "metadata": {},
   "outputs": [],
   "source": []
  },
  {
   "cell_type": "code",
   "execution_count": null,
   "id": "6ec17d55",
   "metadata": {},
   "outputs": [],
   "source": []
  }
 ],
 "metadata": {
  "kernelspec": {
   "display_name": "Python 3 (ipykernel)",
   "language": "python",
   "name": "python3"
  },
  "language_info": {
   "codemirror_mode": {
    "name": "ipython",
    "version": 3
   },
   "file_extension": ".py",
   "mimetype": "text/x-python",
   "name": "python",
   "nbconvert_exporter": "python",
   "pygments_lexer": "ipython3",
   "version": "3.9.12"
  }
 },
 "nbformat": 4,
 "nbformat_minor": 5
}
